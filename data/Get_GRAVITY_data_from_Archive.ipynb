{
 "cells": [
  {
   "cell_type": "markdown",
   "id": "distinguished-amsterdam",
   "metadata": {},
   "source": [
    "# Get GRAVITY data from archive: target + calibrators + daytime calibrators "
   ]
  },
  {
   "cell_type": "code",
   "execution_count": 2,
   "id": "detailed-affect",
   "metadata": {},
   "outputs": [
    {
     "name": "stdout",
     "output_type": "stream",
     "text": [
      "> 2020-02-03 [18/143 OBs withing 10.0\"]\n",
      "  59 files\n",
      "total number of files: 59\n",
      "HD_58647_DPID.txt has been written\n",
      "upload it to http://archive.eso.org/cms/eso-data/eso-data-direct-retrieval.html\n"
     ]
    }
   ],
   "source": [
    "import getgrav \n",
    "##############################################################\n",
    "withP2vm = True # get Pv2m files as well\n",
    "calibValidity = 1 # in days\n",
    "target = 'HD 58647'\n",
    "stime='2020-02-01'\n",
    "etime='2020-03-01' \n",
    "##############################################################\n",
    "\n",
    "times = getgrav.getStartDate(target, stime=stime, etime=etime)\n",
    "\n",
    "# -- organise DP.ID in dictionnary, indexed by start date\n",
    "dpid = {}\n",
    "for t in times:\n",
    "    print('>', t.split('T')[0], end=' ')\n",
    "    dpid[t.split('T')[0]] = getgrav.getTargetNight(target, t, calibValidity=calibValidity, withP2vm=withP2vm)\n",
    "    print(' ', len(dpid[t.split('T')[0]]), 'files')\n",
    "\n",
    "print('total number of files:', sum([len(dpid[k]) for k in dpid.keys()]))\n",
    "\n",
    "# -- use file: http://archive.eso.org/cms/eso-data/eso-data-direct-retrieval.html\n",
    "filename = target.replace(' ', '_')+'_DPID.txt'\n",
    "\n",
    "with open(filename, 'w') as f:\n",
    "    for k in dpid.keys(): # for each date\n",
    "        for l in dpid[k]: # for each file\n",
    "            d = l.split('GRAVI.')[1].split('T')[0]\n",
    "            f.write(l+'\\n')\n",
    "print(filename, 'has been written')\n",
    "print('upload it to http://archive.eso.org/cms/eso-data/eso-data-direct-retrieval.html')"
   ]
  },
  {
   "cell_type": "code",
   "execution_count": null,
   "id": "arabic-iraqi",
   "metadata": {},
   "outputs": [],
   "source": []
  }
 ],
 "metadata": {
  "kernelspec": {
   "display_name": "Python 3 (ipykernel)",
   "language": "python",
   "name": "python3"
  },
  "language_info": {
   "codemirror_mode": {
    "name": "ipython",
    "version": 3
   },
   "file_extension": ".py",
   "mimetype": "text/x-python",
   "name": "python",
   "nbconvert_exporter": "python",
   "pygments_lexer": "ipython3",
   "version": "3.11.6"
  },
  "widgets": {
   "application/vnd.jupyter.widget-state+json": {
    "state": {},
    "version_major": 2,
    "version_minor": 0
   }
  }
 },
 "nbformat": 4,
 "nbformat_minor": 5
}
